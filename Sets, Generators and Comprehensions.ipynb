{
 "cells": [
  {
   "cell_type": "markdown",
   "metadata": {},
   "source": [
    "### List Comprehension\n",
    "##### It is a way to define and create lists in Python."
   ]
  },
  {
   "cell_type": "code",
   "execution_count": null,
   "metadata": {},
   "outputs": [],
   "source": [
    "# Creating a list\n",
    "# All the statements do the same thing\n",
    "lst = [ i for i in range(10)]\n",
    "lst"
   ]
  },
  {
   "cell_type": "code",
   "execution_count": null,
   "metadata": {},
   "outputs": [],
   "source": [
    "lst = list(range(10))\n",
    "lst"
   ]
  },
  {
   "cell_type": "code",
   "execution_count": null,
   "metadata": {},
   "outputs": [],
   "source": [
    "lst = []\n",
    "for i in range(10):\n",
    "    lst.append(i)\n",
    "lst"
   ]
  },
  {
   "cell_type": "code",
   "execution_count": null,
   "metadata": {},
   "outputs": [],
   "source": [
    "# Creating a zero n*n matrix using list comprehension\n",
    "n = 5\n",
    "matrix = [ [0 for j in range(n)] for i in range(n)]\n",
    "# matrix = [[0]*n for _ in range(n)]\n",
    "matrix"
   ]
  },
  {
   "cell_type": "code",
   "execution_count": null,
   "metadata": {},
   "outputs": [],
   "source": [
    "# List comprehension as a substitute of map()\n",
    "\n",
    "def return_digit_count(item):\n",
    "    count = 0\n",
    "    for i in item:\n",
    "        if i.isdigit():\n",
    "            count += 1\n",
    "    return count\n",
    "\n",
    "items = ['12s', 'a123s', '1a234s', '123as4as5', '12345as67']\n",
    "length_list = [return_digit_count(i) for i in items]\n",
    "print(length_list)\n",
    "\n",
    "# Using map\n",
    "\n",
    "length_list = list(map(return_digit_count, items))\n",
    "print(length_list)"
   ]
  },
  {
   "cell_type": "code",
   "execution_count": null,
   "metadata": {},
   "outputs": [],
   "source": [
    "# List comprehension as a substitute of filter()\n",
    "\n",
    "def is_even(num):\n",
    "    return num%2 == 0\n",
    "\n",
    "numbers = range(50)\n",
    "\n",
    "even_numbers = [i for i in numbers if is_even(i)]\n",
    "print(even_numbers)\n",
    "\n",
    "# Using filter()\n",
    "\n",
    "even_numbers = list(filter(is_even, numbers))\n",
    "print(even_numbers)\n"
   ]
  },
  {
   "cell_type": "markdown",
   "metadata": {},
   "source": [
    "#### Think of a case where you can use list comphrension instead of reduce()."
   ]
  },
  {
   "cell_type": "markdown",
   "metadata": {},
   "source": [
    "#### Implement map() function using *args and list comprehension()."
   ]
  },
  {
   "cell_type": "markdown",
   "metadata": {},
   "source": [
    "### Sets\n",
    "#### Sets represents the mathematical notion of a set. It is does not contain any duplicate elements and does not support indexing."
   ]
  },
  {
   "cell_type": "code",
   "execution_count": null,
   "metadata": {},
   "outputs": [],
   "source": [
    "lst = [1, 2, 4, 5, 6, 7, 1, 2, 3, 4, 8, 9, 5, 2, 4]\n",
    "st_lst = set(lst)\n",
    "st_lst"
   ]
  },
  {
   "cell_type": "markdown",
   "metadata": {},
   "source": [
    "#### Sets are based on the hash table data structures, which ensures searching of an elements happens in constant time(O(1)).\n",
    "#### That is why it is recommended to search in set instead of a list when the size is large"
   ]
  },
  {
   "cell_type": "markdown",
   "metadata": {},
   "source": [
    "#### Sets have methods like union, intersection and difference, just like in mathematics."
   ]
  },
  {
   "cell_type": "markdown",
   "metadata": {},
   "source": [
    "#### union()"
   ]
  },
  {
   "cell_type": "code",
   "execution_count": null,
   "metadata": {
    "scrolled": true
   },
   "outputs": [],
   "source": [
    "st_a = {1, 2, 3, 4, 5, 8, 9, 15}\n",
    "st_b = {2, 5, 7, 6, 2, 14, 13, 10, 11}\n",
    "\n",
    "print(st_a.union(st_b))\n",
    "print(st_a|st_b)"
   ]
  },
  {
   "cell_type": "markdown",
   "metadata": {},
   "source": [
    "#### intersection()"
   ]
  },
  {
   "cell_type": "code",
   "execution_count": null,
   "metadata": {
    "scrolled": true
   },
   "outputs": [],
   "source": [
    "print(st_a.intersection(st_b))\n",
    "print(st_a&st_b)"
   ]
  },
  {
   "cell_type": "markdown",
   "metadata": {},
   "source": [
    "#### difference()"
   ]
  },
  {
   "cell_type": "code",
   "execution_count": null,
   "metadata": {
    "scrolled": true
   },
   "outputs": [],
   "source": [
    "print(st_a.difference(st_b))\n",
    "print(st_a - st_b)"
   ]
  },
  {
   "cell_type": "markdown",
   "metadata": {},
   "source": [
    "#### Implement union(), intersection() and difference() "
   ]
  },
  {
   "cell_type": "markdown",
   "metadata": {},
   "source": [
    "### Set Comprehension"
   ]
  },
  {
   "cell_type": "code",
   "execution_count": null,
   "metadata": {},
   "outputs": [],
   "source": [
    "# All the statements do the same thing\n",
    "\n",
    "lst = [1, 2, 4, 5, 6, 7, 1, 2, 3, 4, 8, 9, 5, 2, 4]\n",
    "st = {i for i in lst}\n",
    "st"
   ]
  },
  {
   "cell_type": "code",
   "execution_count": null,
   "metadata": {},
   "outputs": [],
   "source": [
    "st = set()\n",
    "for i in lst:\n",
    "    st.add(i)\n",
    "st"
   ]
  },
  {
   "cell_type": "code",
   "execution_count": null,
   "metadata": {},
   "outputs": [],
   "source": [
    "st = set(lst)\n",
    "st"
   ]
  },
  {
   "cell_type": "markdown",
   "metadata": {},
   "source": [
    "#### Dictionaries in Python are also based on Hash tables, using this, we can implement sets (as it is or with some modifications) in Python using dictionaries."
   ]
  },
  {
   "cell_type": "code",
   "execution_count": null,
   "metadata": {},
   "outputs": [],
   "source": [
    "lst = [1, 1, 2, 3, 4, 5, 8, 7, 4, 5, 6, 8, 1, 2]\n",
    "\n",
    "dct_set = {}\n",
    "\n",
    "for i in lst:\n",
    "    dct_set[i] = None\n",
    "print(dct_set.keys())"
   ]
  },
  {
   "cell_type": "markdown",
   "metadata": {},
   "source": [
    "#### Implement union(), intersection() and difference() - Accepting and returning dictionary - Either using functions or classes"
   ]
  },
  {
   "cell_type": "markdown",
   "metadata": {},
   "source": [
    "### Generators"
   ]
  },
  {
   "cell_type": "code",
   "execution_count": null,
   "metadata": {},
   "outputs": [],
   "source": [
    "def ret_numbers(st, end):\n",
    "    for i in range(st, end + 1):\n",
    "        yield i\n",
    "\n",
    "print(ret_numbers(1,5))"
   ]
  },
  {
   "cell_type": "code",
   "execution_count": null,
   "metadata": {},
   "outputs": [],
   "source": [
    "gen = ret_numbers(1, 5)\n",
    "for i in gen:\n",
    "    print(i)"
   ]
  },
  {
   "cell_type": "code",
   "execution_count": null,
   "metadata": {
    "scrolled": true
   },
   "outputs": [],
   "source": [
    "# gen = ret_numbers(1, 5)\n",
    "next(gen)"
   ]
  },
  {
   "cell_type": "code",
   "execution_count": null,
   "metadata": {},
   "outputs": [],
   "source": [
    "gen_ls = list(ret_numbers(1, 5))\n",
    "print(gen_ls)"
   ]
  },
  {
   "cell_type": "code",
   "execution_count": null,
   "metadata": {},
   "outputs": [],
   "source": [
    "gen_tp = tuple(ret_numbers(1, 5))\n",
    "print(gen_tp)"
   ]
  },
  {
   "cell_type": "code",
   "execution_count": null,
   "metadata": {
    "scrolled": true
   },
   "outputs": [],
   "source": [
    "gen_st = set(ret_numbers(1, 5))\n",
    "print(gen_st)"
   ]
  },
  {
   "cell_type": "markdown",
   "metadata": {},
   "source": [
    "#### Write a generator that generates prime numbers till n "
   ]
  },
  {
   "cell_type": "markdown",
   "metadata": {},
   "source": [
    "#### Generator Expressions"
   ]
  },
  {
   "cell_type": "code",
   "execution_count": null,
   "metadata": {},
   "outputs": [],
   "source": [
    "gen_e = ( i for i in range(10))\n",
    "print(gen_e)\n",
    "for j in gen_e:\n",
    "    print(j)"
   ]
  },
  {
   "cell_type": "markdown",
   "metadata": {},
   "source": [
    "#### Generator expressions are usually slower [(see here)](https://stackoverflow.com/questions/11964130/list-comprehension-vs-generator-expressions-weird-timeit-results/11964478#11964478) than list comprehension but are much more memory efficient. "
   ]
  },
  {
   "cell_type": "code",
   "execution_count": null,
   "metadata": {},
   "outputs": [],
   "source": [
    "import sys\n",
    "\n",
    "gen_e = (i for i in range(1000000))\n",
    "\n",
    "lst_c = [i for i in range(1000000)]\n",
    "\n",
    "print(\"LC:\", sys.getsizeof(lst_c),\"bytes\")\n",
    "print(\"GE:\", sys.getsizeof(gen_e),\"bytes\")"
   ]
  },
  {
   "cell_type": "markdown",
   "metadata": {},
   "source": [
    "#### Implement any two of map(), filter(), zip(), enumerate() or accumulate() using generators"
   ]
  },
  {
   "cell_type": "markdown",
   "metadata": {},
   "source": [
    "### Dictionaries"
   ]
  },
  {
   "cell_type": "code",
   "execution_count": null,
   "metadata": {},
   "outputs": [],
   "source": [
    "dct = {'a':1, 'b':2, 'c':3}\n",
    "print(dct['a'])"
   ]
  },
  {
   "cell_type": "code",
   "execution_count": null,
   "metadata": {},
   "outputs": [],
   "source": [
    "print(dct.keys())"
   ]
  },
  {
   "cell_type": "code",
   "execution_count": null,
   "metadata": {},
   "outputs": [],
   "source": [
    "print(dct.values())"
   ]
  },
  {
   "cell_type": "code",
   "execution_count": null,
   "metadata": {},
   "outputs": [],
   "source": [
    "print(dct.items())"
   ]
  },
  {
   "cell_type": "code",
   "execution_count": null,
   "metadata": {},
   "outputs": [],
   "source": [
    "print(dct.get('d', 0))"
   ]
  },
  {
   "cell_type": "markdown",
   "metadata": {},
   "source": [
    "#### Write a function that counts the elements in an iterable and returns a dictionary \n",
    "##### func(\"test\") = {'t':2, 'e':1, 's':1}"
   ]
  },
  {
   "cell_type": "markdown",
   "metadata": {},
   "source": [
    "#### Dictionary comprehension"
   ]
  },
  {
   "cell_type": "code",
   "execution_count": null,
   "metadata": {},
   "outputs": [],
   "source": [
    "# From two lists\n",
    "\n",
    "keys = [1,2,3,4]\n",
    "val = [11,22,33,44]\n",
    "\n",
    "dct = { k:v for k, v in zip(keys, val)}\n",
    "dct"
   ]
  },
  {
   "cell_type": "code",
   "execution_count": null,
   "metadata": {},
   "outputs": [],
   "source": [
    "# From a list (Implementing sets)\n",
    "\n",
    "lst = [1, 2, 3, 4, 5, 8, 2, 4]\n",
    "\n",
    "dct = {i:None for i in lst}\n",
    "dct"
   ]
  },
  {
   "cell_type": "code",
   "execution_count": null,
   "metadata": {},
   "outputs": [],
   "source": [
    "# From a dictionary (Reversing a dictionary)\n",
    "\n",
    "dct = {'a':1, 'b':2,'c':3,'d':4}\n",
    "\n",
    "rev_dct = {val:key for key, val in dct.items()}\n",
    "rev_dct"
   ]
  },
  {
   "cell_type": "markdown",
   "metadata": {},
   "source": [
    "#### Switch case using dictionaries"
   ]
  },
  {
   "cell_type": "code",
   "execution_count": null,
   "metadata": {},
   "outputs": [],
   "source": [
    "swc = {\n",
    "    'a':lambda x,y:x+y,\n",
    "    'b': lambda x,y:x*y,\n",
    "    'c':lambda x,y:x-y\n",
    "}\n",
    "\n",
    "print(swc['a'](1,5))"
   ]
  }
 ],
 "metadata": {
  "kernelspec": {
   "display_name": "Python 3",
   "language": "python",
   "name": "python3"
  },
  "language_info": {
   "codemirror_mode": {
    "name": "ipython",
    "version": 3
   },
   "file_extension": ".py",
   "mimetype": "text/x-python",
   "name": "python",
   "nbconvert_exporter": "python",
   "pygments_lexer": "ipython3",
   "version": "3.7.1"
  }
 },
 "nbformat": 4,
 "nbformat_minor": 2
}
