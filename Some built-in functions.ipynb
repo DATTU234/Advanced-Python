{
 "cells": [
  {
   "cell_type": "markdown",
   "metadata": {},
   "source": [
    "## Python has some very useful built-in functions, lets have a look at them\n",
    "\n",
    "#### lambda \n",
    "#### lambda functions are anonymous functions which are usually made for one-time use only\n",
    "\n",
    "##### Multiple arguments but only one expression.\n",
    "##### Returns the value of the expression.\n",
    "##### Arguments are optional but expression is a must.\n",
    "\n",
    "#### Syntax\n",
    "#### lambda {arguments}: expression"
   ]
  },
  {
   "cell_type": "code",
   "execution_count": null,
   "metadata": {},
   "outputs": [],
   "source": [
    "def specific_order(x):\n",
    "    return x%5\n",
    "\n",
    "num = [4, 5, 6, 1, 8, 3, 9, 15]\n",
    "# num.sort(key = lambda x: x%5)\n",
    "num.sort(key = specific_order)\n",
    "\n",
    "num"
   ]
  },
  {
   "cell_type": "markdown",
   "metadata": {},
   "source": [
    "#### Using lambda functions is logical only when they are used once and/or are not too complex."
   ]
  },
  {
   "cell_type": "markdown",
   "metadata": {},
   "source": [
    "#### map()\n",
    "##### map() is used to apply a given function to each element of a given iterable(s)(list, set, tuple), returning a map object, which can be converted to a list, set or tuple.\n",
    "\n",
    "#### Syntax\n",
    "##### map(function, *iterables)"
   ]
  },
  {
   "cell_type": "code",
   "execution_count": null,
   "metadata": {},
   "outputs": [],
   "source": [
    "words = ['test', 'testing', 'python']\n",
    "print(list(map(len, words)))\n",
    "\n",
    "lst = input().strip().split()\n",
    "print(lst)\n",
    "n, k = list(map(int,lst))\n",
    "print(n, k)"
   ]
  },
  {
   "cell_type": "code",
   "execution_count": null,
   "metadata": {},
   "outputs": [],
   "source": [
    "def my_map(func, itr):\n",
    "    ret_lst = []\n",
    "    for i in itr:\n",
    "        ret_lst.append(func(i))\n",
    "    return ret_lst\n",
    "print(my_map(len, words))"
   ]
  },
  {
   "cell_type": "code",
   "execution_count": null,
   "metadata": {},
   "outputs": [],
   "source": [
    "# concatenating words\n",
    "\n",
    "\n",
    "def my_join(x, y):\n",
    "    return x + \" \"+ y\n",
    "\n",
    "words_1 = ['Hello', 'I', 'Python']\n",
    "words_2 = ['World', 'am', '3.6']\n",
    "\n",
    "\n",
    "# print(list(map( lambda x, y: x + ' ' + y, words_1, words_2 )))\n",
    "print(list(map( my_join, words_1, words_2)))"
   ]
  },
  {
   "cell_type": "markdown",
   "metadata": {},
   "source": [
    "#### filter()\n",
    "##### filter() is used to filter elements from a given iterable based on the given function.\n",
    "#### Syntax\n",
    "##### filter(function, iterable)"
   ]
  },
  {
   "cell_type": "code",
   "execution_count": null,
   "metadata": {},
   "outputs": [],
   "source": [
    "import math\n",
    "\n",
    "numbers = range(1, 100)\n",
    "\n",
    "\n",
    "def is_perfect_square(x):\n",
    "    y = x**0.5\n",
    "    return math.floor(y) == y\n",
    "\n",
    "print(list(numbers))\n",
    "\n",
    "perf_squares = list(filter(is_perfect_square, numbers))\n",
    "perf_squares"
   ]
  },
  {
   "cell_type": "code",
   "execution_count": null,
   "metadata": {},
   "outputs": [],
   "source": [
    "# Using lambda functions\n",
    "even_numbers = list(filter(lambda x: x % 2 == 0, numbers[:40]))\n",
    "even_numbers"
   ]
  },
  {
   "cell_type": "code",
   "execution_count": null,
   "metadata": {},
   "outputs": [],
   "source": [
    "def is_odd(x):\n",
    "    return not x%2==0\n",
    "\n",
    "numbers = range(1, 40)\n",
    "print(list(numbers))\n",
    "odd_numbers = list(filter(is_odd, numbers))\n",
    "odd_numbers"
   ]
  },
  {
   "cell_type": "code",
   "execution_count": null,
   "metadata": {},
   "outputs": [],
   "source": [
    "def my_filter(func, itr):\n",
    "    ret_list = []\n",
    "    for i in itr:\n",
    "        if func(i):\n",
    "            ret_list.append(i)\n",
    "    return ret_list\n",
    "\n",
    "odd_num = my_filter(is_odd, numbers)\n",
    "odd_num"
   ]
  },
  {
   "cell_type": "code",
   "execution_count": null,
   "metadata": {},
   "outputs": [],
   "source": [
    "my_print = print\n",
    "my_print('a')\n",
    "f_list = [print, len, int, pow]"
   ]
  },
  {
   "cell_type": "markdown",
   "metadata": {},
   "source": [
    "#### reduce()\n",
    "##### reduce() function is used to reduce the elements of the given iterable to a single value depending on the given function.\n",
    "   ##### 1.  First and second element of the iterable are passed to the function\n",
    "   ##### 2. The above result and the third element are pssed to the function\n",
    "   ##### 3. This process goes on until all the elements of the iterable are exhausted\n",
    "#### Syntax\n",
    "##### reduce(function, iterable)"
   ]
  },
  {
   "cell_type": "code",
   "execution_count": null,
   "metadata": {},
   "outputs": [],
   "source": [
    "# reduce() has been moved to functools module\n",
    "from functools import reduce\n",
    "numbers = range(10)\n",
    "total = reduce(lambda x, y:x + y, numbers)\n",
    "total"
   ]
  },
  {
   "cell_type": "markdown",
   "metadata": {},
   "source": [
    "#### partial()\n",
    "#####  partial() “freezes” some portion of a function’s arguments and/or keywords resulting in a new function with a simplified signature.\n",
    "\n",
    "#### Syntax\n",
    "##### partial(function, arguments)\n"
   ]
  },
  {
   "cell_type": "code",
   "execution_count": null,
   "metadata": {},
   "outputs": [],
   "source": [
    "from functools import partial\n",
    "\n",
    "\n",
    "def number_rep(th, hun, ten, ones):\n",
    "    return 1000 * th + 100 * hun + 10 * ten + ones\n",
    "\n",
    "\n",
    "print(number_rep(9, 8, 7, 6))"
   ]
  },
  {
   "cell_type": "code",
   "execution_count": null,
   "metadata": {},
   "outputs": [],
   "source": [
    "# order matters here\n",
    "only_ones = partial(number_rep, 1,2,3)\n",
    "# print(only_ones)\n",
    "only_ones(6)"
   ]
  },
  {
   "cell_type": "code",
   "execution_count": null,
   "metadata": {},
   "outputs": [],
   "source": [
    "# order doesn't matter here\n",
    "three_th = partial(number_rep, th=3)\n",
    "three_th(ones=2,ten=3,hun=4)"
   ]
  },
  {
   "cell_type": "markdown",
   "metadata": {},
   "source": [
    "#### Write your own implementation of partial() using \\*args and \\*\\*kwargs"
   ]
  },
  {
   "cell_type": "markdown",
   "metadata": {},
   "source": [
    "#### zip()\n",
    "##### zip() takes iterables/iterators and combines their elements of same index into a tuple and returning all the tuples in the form of an iterator.\n",
    "#### Syntax\n",
    "##### zip(*iterables/iterator)"
   ]
  },
  {
   "cell_type": "code",
   "execution_count": null,
   "metadata": {},
   "outputs": [],
   "source": [
    "words = ['Hello', 'world', 'I', 'am', 'Python']\n",
    "numbers = [1, 2, 3, 4, 5]\n",
    "\n",
    "zipped = zip(words, numbers, range(5))\n",
    "for i in zipped:\n",
    "    print(i)\n",
    "    \n",
    "# for i in zipped:\n",
    "#     print(i)\n",
    "    \n",
    "# next(zipped)"
   ]
  },
  {
   "cell_type": "markdown",
   "metadata": {},
   "source": [
    "##### The length of the zip iterator will be equal to the length of the smallest iterator"
   ]
  },
  {
   "cell_type": "code",
   "execution_count": null,
   "metadata": {},
   "outputs": [],
   "source": [
    "numbers = [1, 2, 3, 4, 5, 6]\n",
    "zipped = zip(words, numbers)\n",
    "\n",
    "for i in zipped:\n",
    "    print(i)"
   ]
  },
  {
   "cell_type": "markdown",
   "metadata": {},
   "source": [
    "#### Write your own implementation of zip()"
   ]
  },
  {
   "cell_type": "markdown",
   "metadata": {},
   "source": [
    "#### enumerate()\n",
    "##### enumerate() takes an iterable and returns another iterable having tuples of a counter and the elements of the given iterable, just like the indexes in a list.\n",
    "#### Syntax\n",
    "##### enumerate(iterable, start)"
   ]
  },
  {
   "cell_type": "code",
   "execution_count": null,
   "metadata": {},
   "outputs": [],
   "source": [
    "words = ['Hello', 'world', 'I', 'am', 'Python']\n",
    "\n",
    "for i in enumerate(words):\n",
    "    print(i)\n",
    "    #print(\"{} at {} index\".format(word, i))\n",
    "    "
   ]
  },
  {
   "cell_type": "code",
   "execution_count": null,
   "metadata": {},
   "outputs": [],
   "source": [
    "# Using the start parameter\n",
    "\n",
    "for i, word in enumerate(words, 1):\n",
    "    print(\"{} at {} position\".format(word, i))"
   ]
  },
  {
   "cell_type": "code",
   "execution_count": null,
   "metadata": {
    "scrolled": true
   },
   "outputs": [],
   "source": [
    "enum = enumerate(words)\n",
    "\n",
    "print(type(enum))\n",
    "print(list(enum))\n",
    "print(list(enum))"
   ]
  },
  {
   "cell_type": "markdown",
   "metadata": {},
   "source": [
    "#### Write your own implementation of enumerate() using zip()"
   ]
  },
  {
   "cell_type": "markdown",
   "metadata": {},
   "source": [
    "## Points to discuss\n",
    "\n",
    "1. \"Implement\" v/s \"Use\"\n",
    "2. How to \"implement\" ?\n",
    "3. Tips and Tricks\n",
    "4. Python Package\n",
    "5. \\*args and \\*\\*kwargs"
   ]
  },
  {
   "cell_type": "code",
   "execution_count": null,
   "metadata": {},
   "outputs": [],
   "source": [
    "def my_map(func, itr):\n",
    "    ret_list = []\n",
    "    for i in itr:\n",
    "        ret_list.append(func(i))\n",
    "    return ret_list\n",
    "\n",
    "words = ['test', 'ok', '123456789']\n",
    "print(my_map(len, words))\n",
    "\n",
    "# print(list(map(len, words)))"
   ]
  },
  {
   "cell_type": "markdown",
   "metadata": {},
   "source": [
    "### \\*args and \\*\\*kwargs"
   ]
  },
  {
   "cell_type": "code",
   "execution_count": null,
   "metadata": {},
   "outputs": [],
   "source": [
    "# * is used for tuple unpacking\n",
    "\n",
    "my_tup = (1, 2, 3, 4, 5)\n",
    "\n",
    "print(my_tup)\n",
    "\n",
    "print(*my_tup)\n",
    "\n",
    "# print(1, 2, 3, 4, 5)"
   ]
  },
  {
   "cell_type": "code",
   "execution_count": null,
   "metadata": {},
   "outputs": [],
   "source": [
    "# two arguments\n",
    "def add(x, y):\n",
    "    return x + y\n",
    "\n",
    "print(add(4, 5))"
   ]
  },
  {
   "cell_type": "code",
   "execution_count": null,
   "metadata": {},
   "outputs": [],
   "source": [
    "# four arguments\n",
    "def add(w, x, y, z):\n",
    "    return w + x + y + z\n",
    "\n",
    "tup = (1, 2, 3, 4)\n",
    "\n",
    "# print(add(tup))\n",
    "# print(add(*tup))\n",
    "print(add(1, 2, 3, 4))"
   ]
  },
  {
   "cell_type": "code",
   "execution_count": null,
   "metadata": {},
   "outputs": [],
   "source": [
    "# n arguments\n",
    "def add(*args):\n",
    "    return sum(args)\n",
    "\n",
    "print(add(5, 6, 7, 8, 9))\n",
    "\n",
    "# print(add())"
   ]
  },
  {
   "cell_type": "code",
   "execution_count": null,
   "metadata": {},
   "outputs": [],
   "source": [
    "# n variables with one positional argument\n",
    "def add(x, *args):\n",
    "    return x + sum(args)\n",
    "\n",
    "print(add(1, 5, 6, 7, 8, 9))\n",
    "\n",
    "# print(add(5))\n",
    "# print(add())"
   ]
  },
  {
   "cell_type": "code",
   "execution_count": null,
   "metadata": {},
   "outputs": [],
   "source": [
    "# two keywords\n",
    "def add(a=5, b=6):\n",
    "    return a + b\n",
    "\n",
    "print(add())\n",
    "\n",
    "# print(add(10, 20))\n",
    "\n",
    "# print(add(b=40))"
   ]
  },
  {
   "cell_type": "code",
   "execution_count": null,
   "metadata": {},
   "outputs": [],
   "source": [
    "# one positional argument and two keywords\n",
    "def add(a, b=0, c=0):\n",
    "    return a + b + c\n",
    "\n",
    "\n",
    "print(add(5))\n",
    "\n",
    "# print(add(5, 6, 7))\n",
    "# print(add())"
   ]
  },
  {
   "cell_type": "code",
   "execution_count": null,
   "metadata": {},
   "outputs": [],
   "source": [
    "# one positional argument, optional arguments and one keyword\n",
    "def add(a, *args, c=5):\n",
    "    return a + sum(args) + c\n",
    "\n",
    "print(add(1, 2, 4, 3))\n",
    "\n",
    "# print(add(1))\n",
    "# print(add())"
   ]
  },
  {
   "cell_type": "code",
   "execution_count": null,
   "metadata": {},
   "outputs": [],
   "source": [
    "# ** is used for dictionary unpacking\n",
    "\n",
    "dct = {'a':2, 'b':5}\n",
    "\n",
    "def show(**dct):\n",
    "    return dct\n",
    "    \n",
    "print(show(**dct))"
   ]
  },
  {
   "cell_type": "code",
   "execution_count": null,
   "metadata": {},
   "outputs": [],
   "source": [
    "## The sequence matters\n",
    "\n",
    "def func(pa1, pa2, *args, **kwargs):\n",
    "    pass"
   ]
  },
  {
   "cell_type": "code",
   "execution_count": null,
   "metadata": {},
   "outputs": [],
   "source": [
    "def show_all_params(pa1, pa2, *args, **kwargs):\n",
    "    print(\"Positional Arguments: \", pa1, pa2)\n",
    "    print(\"Arguments: \", args)\n",
    "    print(\"Keyword Arguments: \", kwargs)\n",
    "    \n",
    "    \n",
    "show_all_params(1, 2, 3, 4, 5, 7, 8, 9, kw1=10, kw2=11, kw=3)"
   ]
  },
  {
   "cell_type": "markdown",
   "metadata": {},
   "source": [
    "#### Write a Python function to\n",
    "1. Add at least two numbers,\n",
    "2. Multiply by 100 if asked, else don't, \n",
    "3. Divide by 3 if asked, else dont't."
   ]
  },
  {
   "cell_type": "markdown",
   "metadata": {},
   "source": [
    "#### iter()\n",
    "##### iter() is used to convert an iterable to an iterator\n",
    "\n",
    "#### Syntax\n",
    "##### iter(iterable, sentinel=None)"
   ]
  },
  {
   "cell_type": "code",
   "execution_count": null,
   "metadata": {
    "scrolled": false
   },
   "outputs": [],
   "source": [
    "numbers = [1, 5, 8, 9, 7]\n",
    "for i in numbers:\n",
    "    print(i)"
   ]
  },
  {
   "cell_type": "code",
   "execution_count": null,
   "metadata": {},
   "outputs": [],
   "source": [
    "# Iterators get exhausted after they are used once\n",
    "\n",
    "numbers_it = iter(numbers)\n",
    "for i in numbers_it:\n",
    "    print(i)\n",
    "    \n",
    "next(numbers_it)"
   ]
  },
  {
   "cell_type": "markdown",
   "metadata": {},
   "source": [
    "#### iter() raises a StopIteration exception when the iterator is exhausted"
   ]
  },
  {
   "cell_type": "code",
   "execution_count": null,
   "metadata": {},
   "outputs": [],
   "source": [
    "for i in numbers_it:\n",
    "    print(i)"
   ]
  },
  {
   "cell_type": "markdown",
   "metadata": {},
   "source": [
    "#### Python implements for loop internally using iter() method.\n",
    "##### Try implementing your own  for-loop\n",
    "##### Learn about \\_\\_next\\_\\_() and \\_\\_iter\\_\\_()"
   ]
  },
  {
   "cell_type": "code",
   "execution_count": null,
   "metadata": {},
   "outputs": [],
   "source": [
    "numbers = [1, 2, 3,4, 5, 6]\n",
    "\n",
    "numbers_it = iter(numbers)\n",
    "\n",
    "while True:\n",
    "    try:\n",
    "        print(next(numbers_it))\n",
    "    except StopIteration:\n",
    "        break"
   ]
  },
  {
   "cell_type": "markdown",
   "metadata": {},
   "source": [
    "### iter() takes another argument called sentinel which tells it when to stop iterating on the callable\n"
   ]
  },
  {
   "cell_type": "code",
   "execution_count": null,
   "metadata": {},
   "outputs": [],
   "source": [
    "import random\n",
    "\n",
    "numbers_iter = partial(random.randint, 1, 6)\n",
    "itr = iter(numbers_iter, 5)\n",
    "\n",
    "for i in itr:\n",
    "    print(i)"
   ]
  },
  {
   "cell_type": "markdown",
   "metadata": {},
   "source": [
    "## Itertools\n",
    "##### Itertools is a module provided in Python that consists of efficient functions that are useful by themselves or in combination with other function.\n",
    "\n",
    "#### repeat(value, n)"
   ]
  },
  {
   "cell_type": "code",
   "execution_count": null,
   "metadata": {
    "scrolled": true
   },
   "outputs": [],
   "source": [
    "from itertools import *\n",
    "rep = list(repeat(10, 3))\n",
    "rep"
   ]
  },
  {
   "cell_type": "markdown",
   "metadata": {},
   "source": [
    "###### repeat(10) will return 10 indefinitely. Not recommended to run on Jupyter Notebook"
   ]
  },
  {
   "cell_type": "markdown",
   "metadata": {},
   "source": [
    "#### accumulate(iterable, func = operator.add)"
   ]
  },
  {
   "cell_type": "code",
   "execution_count": null,
   "metadata": {},
   "outputs": [],
   "source": [
    "# Default function is addition\n",
    "\n",
    "numbers = range(11)\n",
    "list(accumulate(numbers))\n",
    "\n",
    "# Same as reduce but instead of returning the final value, it returns the values at each step "
   ]
  },
  {
   "cell_type": "code",
   "execution_count": null,
   "metadata": {},
   "outputs": [],
   "source": [
    "character = ['a', 'b', 'c', 'd', 'e']\n",
    "list(accumulate(character))"
   ]
  },
  {
   "cell_type": "code",
   "execution_count": null,
   "metadata": {
    "scrolled": true
   },
   "outputs": [],
   "source": [
    "numbers_random = [8, 4, 2, 3, 10, 1, 2, 9]\n",
    "list(accumulate(numbers_random, max))"
   ]
  },
  {
   "cell_type": "markdown",
   "metadata": {},
   "source": [
    "#### Write your implementation of accumulate()"
   ]
  },
  {
   "cell_type": "markdown",
   "metadata": {},
   "source": [
    "#### tee(iterable/iterator ,n=2)\n",
    "##### Iterators are exhausted after using them once, tee() makes copies of iterator for multiple uses."
   ]
  },
  {
   "cell_type": "code",
   "execution_count": null,
   "metadata": {},
   "outputs": [],
   "source": [
    "# By default, tee() returns 2 copies\n",
    "\n",
    "numbers = range(4)\n",
    "numbers_it = iter(numbers)\n",
    "itr_1, itr_2, itr_3 = tee(numbers_it, 3)\n",
    "\n",
    "for i in itr_1:\n",
    "    print(i)\n",
    "    \n",
    "for i in itr_2:\n",
    "    print(i)\n",
    "    \n",
    "# next(itr_2)\n",
    "\n",
    "next(itr_3)"
   ]
  },
  {
   "cell_type": "markdown",
   "metadata": {},
   "source": [
    "#### permutations(iterable, r)\n",
    "##### It returns the permutations of the given iterable of length r, if r is not given then r is taken as equal to n."
   ]
  },
  {
   "cell_type": "code",
   "execution_count": null,
   "metadata": {},
   "outputs": [],
   "source": [
    "for perms in permutations('ABCD', 2):\n",
    "    print(\"\".join(perms))"
   ]
  },
  {
   "cell_type": "code",
   "execution_count": null,
   "metadata": {},
   "outputs": [],
   "source": [
    "for perms in permutations('ABCD'):\n",
    "    print(\"\".join(perms))"
   ]
  },
  {
   "cell_type": "markdown",
   "metadata": {},
   "source": [
    "#### combinations(iterable, r)\n",
    "##### It returns the combinations of length r of the given iterable."
   ]
  },
  {
   "cell_type": "code",
   "execution_count": null,
   "metadata": {},
   "outputs": [],
   "source": [
    "for combs in combinations(\"ABCD\", 2):\n",
    "    print(\"\".join(combs))"
   ]
  },
  {
   "cell_type": "code",
   "execution_count": null,
   "metadata": {},
   "outputs": [],
   "source": [
    "for combs in combinations(\"ABCD\", 3):\n",
    "    print(\"\".join(combs))"
   ]
  },
  {
   "cell_type": "markdown",
   "metadata": {},
   "source": [
    "#### combinations_with_replacements(iterable, r)\n",
    "##### It returns the combinations with replacement of length r of the given iterable."
   ]
  },
  {
   "cell_type": "code",
   "execution_count": null,
   "metadata": {},
   "outputs": [],
   "source": [
    "for comb_wr in combinations_with_replacement(\"ABCD\" ,2):\n",
    "    print(\"\".join(comb_wr))"
   ]
  },
  {
   "cell_type": "markdown",
   "metadata": {},
   "source": [
    "#### product(*iterable, repeat=1)\n",
    "##### It returns the cartesian product of the given iterables. "
   ]
  },
  {
   "cell_type": "code",
   "execution_count": null,
   "metadata": {},
   "outputs": [],
   "source": [
    "for prod in product(\"ABCD\", repeat=2):\n",
    "    print(\"\".join(prod))"
   ]
  },
  {
   "cell_type": "code",
   "execution_count": null,
   "metadata": {},
   "outputs": [],
   "source": [
    "for prod in product(\"ABCD\", \"EF\", \"G\"):\n",
    "    print(\"\".join(prod))"
   ]
  },
  {
   "cell_type": "markdown",
   "metadata": {},
   "source": [
    "#### zip_longest(*iterables, fillvalue=None)\n",
    "##### zip_longest() works just like zip() but the length of the returned iterator is equal to the longest iterator, if an iterator is exhausted, it is replaced by a fillvalue."
   ]
  },
  {
   "cell_type": "code",
   "execution_count": null,
   "metadata": {},
   "outputs": [],
   "source": [
    "zipped = zip_longest(words, range(8))\n",
    "print(list(zipped))"
   ]
  }
 ],
 "metadata": {
  "kernelspec": {
   "display_name": "Python 3",
   "language": "python",
   "name": "python3"
  },
  "language_info": {
   "codemirror_mode": {
    "name": "ipython",
    "version": 3
   },
   "file_extension": ".py",
   "mimetype": "text/x-python",
   "name": "python",
   "nbconvert_exporter": "python",
   "pygments_lexer": "ipython3",
   "version": "3.7.1"
  }
 },
 "nbformat": 4,
 "nbformat_minor": 2
}
